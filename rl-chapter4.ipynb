{
 "cells": [
  {
   "cell_type": "markdown",
   "metadata": {},
   "source": [
    "# Chapter 4 Dynamic Programming"
   ]
  },
  {
   "cell_type": "markdown",
   "metadata": {},
   "source": [
    "_**dynamic programming (DP)**_: a collection of algorithms that can\n",
    "be used to compute optimal policies given a perfect model of the environment as\n",
    "a Markov decision process (MDP)"
   ]
  },
  {
   "cell_type": "code",
   "execution_count": 71,
   "metadata": {},
   "outputs": [
    {
     "name": "stdout",
     "output_type": "stream",
     "text": [
      "[0.0]   -1.0    -1.0    -1.0 \n",
      " -1.0    -1.0    -1.0    -1.0 \n",
      " -1.0    -1.0    -1.0    -1.0 \n",
      " -1.0    -1.0    -1.0    -1.0 \n",
      "[0.0]   -1.0    -2.0    -2.0 \n",
      " -1.0    -2.0    -2.0    -2.0 \n",
      " -2.0    -2.0    -2.0    -2.0 \n",
      " -2.0    -2.0    -2.0    -2.0 \n",
      "[0.0]   -1.0    -2.0    -3.0 \n",
      " -1.0    -2.0    -3.0    -3.0 \n",
      " -2.0    -3.0    -3.0    -3.0 \n",
      " -3.0    -3.0    -3.0    -3.0 \n",
      "[0.0]   -1.0    -2.0    -3.0 \n",
      " -1.0    -2.0    -3.0    -4.0 \n",
      " -2.0    -3.0    -4.0    -4.0 \n",
      " -3.0    -4.0    -4.0    -4.0 \n",
      "[0.0]   -1.0    -2.0    -3.0 \n",
      " -1.0    -2.0    -3.0    -4.0 \n",
      " -2.0    -3.0    -4.0    -5.0 \n",
      " -3.0    -4.0    -5.0    -5.0 \n",
      "[0.0]   -1.0    -2.0    -3.0 \n",
      " -1.0    -2.0    -3.0    -4.0 \n",
      " -2.0    -3.0    -4.0    -5.0 \n",
      " -3.0    -4.0    -5.0    -6.0 \n",
      "[0.0]   -1.0    -2.0    -3.0 \n",
      " -1.0    -2.0    -3.0    -4.0 \n",
      " -2.0    -3.0    -4.0    -5.0 \n",
      " -3.0    -4.0    -5.0    -6.0 \n",
      "[0.0]   -1.0    -2.0    -3.0 \n",
      " -1.0    -2.0    -3.0    -4.0 \n",
      " -2.0    -3.0    -4.0    -5.0 \n",
      " -3.0    -4.0    -5.0    -6.0 \n",
      "[0.0]   -1.0    -2.0    -3.0 \n",
      " -1.0    -2.0    -3.0    -4.0 \n",
      " -2.0    -3.0    -4.0    -5.0 \n",
      " -3.0    -4.0    -5.0    -6.0 \n",
      "[0.0]   -1.0    -2.0    -3.0 \n",
      " -1.0    -2.0    -3.0    -4.0 \n",
      " -2.0    -3.0    -4.0    -5.0 \n",
      " -3.0    -4.0    -5.0    -6.0 \n"
     ]
    }
   ],
   "source": [
    "import numpy as np\n",
    "class GridWorld():\n",
    "    def __init__(self, n_row = 4, n_col = 4, terminal_state = None):\n",
    "        self.n_row_ = n_row\n",
    "        self.n_col_ = n_col\n",
    "        self.grid_ = np.zeros((self.n_row_, self.n_col_), dtype=np.float32)\n",
    "        self.terminal_ = terminal_state\n",
    "        for state in self.terminal_.keys():\n",
    "            self.grid_[state] = self.terminal_[state]\n",
    "        pass\n",
    "    def __str__(self):\n",
    "        repr_state = lambda s: '[%.1f]'%(self.grid_[s]) if s in self.terminal_ else ' %.1f '%(self.grid_[s])\n",
    "        return '\\n'.join(['  '.join([repr_state((r,c)) for c in  range(self.n_col_)]) for r in range(self.n_row_)])\n",
    "    def next_states(self, state):\n",
    "        if state in self.terminal_:\n",
    "            return [state]\n",
    "        states=[]\n",
    "        r, c = state\n",
    "        if r == 0: states.append(state)\n",
    "        else: states.append((r-1,c))\n",
    "        if c == 0: states.append(state)\n",
    "        else: states.append((r,c-1))\n",
    "        if r == self.n_row_-1: states.append(state)\n",
    "        else: states.append((r+1,c))\n",
    "        if c == self.n_col_-1: states.append(state)\n",
    "        else: states.append((r,c+1))\n",
    "        return states\n",
    "    def policy_iter(self, in_place = False):\n",
    "        if in_place:\n",
    "            new_grid = self.grid_\n",
    "        else:\n",
    "            new_grid = np.zeros((self.n_row_, self.n_col_), dtype=np.float32)\n",
    "        for r in range(self.n_row_):\n",
    "            for c in  range(self.n_col_):\n",
    "                if (r,c) in self.terminal_:\n",
    "                    new_grid[(r,c)] = self.grid_[(r,c)]\n",
    "                else:\n",
    "                    new_grid[(r,c)] = np.average([self.grid_[s] for s in self.next_states((r,c))])-1\n",
    "        self.grid_ = new_grid\n",
    "    def value_iter(self, in_place = False):\n",
    "        if in_place:\n",
    "            new_grid = self.grid_\n",
    "        else:\n",
    "            new_grid = np.zeros((self.n_row_, self.n_col_), dtype=np.float32)\n",
    "        for r in range(self.n_row_):\n",
    "            for c in  range(self.n_col_):\n",
    "                if (r,c) in self.terminal_:\n",
    "                    new_grid[(r,c)] = self.grid_[(r,c)]\n",
    "                else:\n",
    "                    new_grid[(r,c)] = np.max([self.grid_[s] for s in self.next_states((r,c))])-1\n",
    "        self.grid_ = new_grid\n",
    "    \n",
    "terminal_state = {\n",
    "    (0,0):0,\n",
    "    (3,3):0,\n",
    "}\n",
    "gw = GridWorld(4, 4, terminal_state = terminal_state)\n",
    "for i in range(10):\n",
    "    gw.value_iter()\n",
    "    print(gw)\n"
   ]
  }
 ],
 "metadata": {
  "anaconda-cloud": {},
  "kernelspec": {
   "display_name": "Python [Root]",
   "language": "python",
   "name": "Python [Root]"
  },
  "language_info": {
   "codemirror_mode": {
    "name": "ipython",
    "version": 3
   },
   "file_extension": ".py",
   "mimetype": "text/x-python",
   "name": "python",
   "nbconvert_exporter": "python",
   "pygments_lexer": "ipython3",
   "version": "3.5.2"
  }
 },
 "nbformat": 4,
 "nbformat_minor": 1
}
